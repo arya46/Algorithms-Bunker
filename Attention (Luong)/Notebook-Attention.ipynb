{
 "cells": [
  {
   "cell_type": "markdown",
   "metadata": {},
   "source": [
    "# Attention\n",
    "In this notebook, we look at how attention is implemented. We will focus on implementing attention in isolation from a larger model. That's because when implementing attention in a real-world model, a lot of the focus goes into piping the data and juggling the various vectors rather than the concepts of attention themselves.\n",
    "\n",
    "We will implement attention scoring as well as calculating an attention context vector."
   ]
  },
  {
   "cell_type": "code",
   "execution_count": 1,
   "metadata": {},
   "outputs": [],
   "source": [
    "%matplotlib inline\n",
    "import numpy as np\n",
    "import matplotlib.pyplot as plt\n",
    "import seaborn as sns"
   ]
  },
  {
   "cell_type": "markdown",
   "metadata": {},
   "source": [
    "## But first, what is Attention?"
   ]
  },
  {
   "cell_type": "markdown",
   "metadata": {},
   "source": [
    "*In psychology, __attention__ is the cognitive process of selectively concentrating on one or a few things while ignoring others.*\n",
    "\n",
    "A neural network is considered to be an effort to mimic human brain actions in a simplified manner. Attention Mechanism is also an attempt to implement the same action of selectively concentrating on a few relevant things, while ignoring others in deep neural networks. \n",
    "\n",
    "For instance, let’s say we are seeing a group photo of our first school. Typically, there will be a group of children sitting across several rows, and the teacher will sit somewhere in between. Now, if anyone asks the question, *“How many people are there?”*, how will we answer it? Simply by counting heads, right? We don’t need to consider any other things in the photo. \n",
    "\n",
    "Now, if anyone asks a different question, *“Who is the teacher in the photo?”*, our brain knows exactly what to do. It will simply start looking for the features of an adult in the photo. The rest of the features will simply be ignored. This is the __‘Attention’__ which our brain is very adept at implementing.\n",
    "\n",
    "### How Attention Mechanism was Introduced in Deep Learning?###\n",
    "The __Attention__ mechanism is one of the most valuable breakthroughs in Deep Learning research in the last decade. It has spawned the rise of so many recent breakthroughs in natural language processing (NLP), including the Transformer architecture and Google’s BERT. It emerged as an improvement over the encoder decoder-based neural machine translation system in natural language processing (NLP). Later, this mechanism, or its variants, was used in other applications, including computer vision, speech processing, etc. \n",
    "\n",
    "Before [Bahdanau et al](https://arxiv.org/abs/1409.0473) proposed the first Attention model in 2015, neural machine translation was based on encoder-decoder RNNs/LSTMs. Both encoder and decoder are stacks of LSTM/RNN units. It works in the two following steps:\n",
    "\n",
    "- The encoder LSTM is used to process the entire input sentence and encode it into a context vector, which is the last hidden state of the LSTM/RNN. This is expected to be a good summary of the input sentence. All the intermediate states of the encoder are ignored, and the final state id supposed to be the initial hidden state of the decoder\n",
    "- The decoder LSTM or RNN units produce the words in a sentence one after another\n",
    "\n",
    "![An encoder-decoder neural network architecture for Machine Translation w/o Attention](https://miro.medium.com/max/1013/1*1ui7iDq956eDs-mAZHEdIg.png)\n",
    "The main drawback of this approach is evident. If the encoder makes a bad summary, the translation will also be bad. And indeed it has been observed that the encoder creates a bad summary when it tries to understand longer sentences. It is called the long-range dependency problem of RNN/LSTMs. \n",
    "\n",
    "__So is there any way we can keep all the relevant information in the input sentences intact while creating the context vector?__\n",
    "\n",
    "[Bahdanau et al (2015)](https://arxiv.org/abs/1409.0473) came up with a way we can keep all the relevant information in the input sentences intact while creating the context vector. He suggested that not only can all the input words be taken into account in the context vector, but relative importance should also be given to each one of them. So, whenever the proposed model generates a word, it inspects for a set of positions in the source sentence where the most relevant information is available. This idea is called __Attention__.\n",
    "\n",
    "![attention mechanism proposed by Bahdanau et al.](https://miro.medium.com/max/799/1*9Lcq9ni9aujScFYyyHRhhA.png) \n",
    "\n",
    "There is also another major type of Attention called Luong Attention published by [Luong et al](https://arxiv.org/pdf/1508.04025.pdf). While the underlying principles of Attention are the same in these 2 types, their differences lie mainly in their architectures and computations. \n",
    "\n",
    "The Loung Attention is different from Bahnadau Attention in the following aspects:\n",
    "\n",
    "- In __Luong__ attention, they consider the decoder hidden state at time `t`. Then calculate attention scores and from that get the context vector which will be concatenated with hidden state of the decoder and then predict.\n",
    "\n",
    "    But in the __Bahdanau__, at time `t`, they consider the `t-1` hidden state of the decoder to calculate the alignment scores, context vectors as above. And then concatenate this context with hidden state of the decoder at `t-1`. This again goes through a deep-output and a maxout layer before making predictions. \n",
    "    \n",
    "    \n",
    "- __Luong__ has diffferent types of alignment score model. __Bahdanau__ has only additive/concat score alignment model. \n",
    "\n",
    "Ref: [Effective Approaches to Attention-based Neural Machine Translation](https://arxiv.org/pdf/1508.04025.pdf) \n",
    "\n",
    "![Score Function](https://miro.medium.com/max/1634/1*oosK1XGaYr0AoSxfs9fx5A.png)![Score function Citations](https://miro.medium.com/max/843/1*XzPD6cyrbWPP0r27PXVWOw.png)"
   ]
  },
  {
   "cell_type": "markdown",
   "metadata": {},
   "source": [
    "Technically, the key concept of **Attention** is to calculate an __attention weight vector__ or the __context vector__, which is then used to amplify the signal from of most relevant parts of the input sequence, and in the same time drown out the irrelevant parts.\n",
    "\n",
    "It involves the following steps:\n",
    "\n",
    "    1) calculate the attention scores for the hidden states\n",
    "    2) apply softmax on the attention scores\n",
    "    3) weigh the hidden states according to the softmax scores\n",
    "    4) concatenate the weighted vectors to obtain the `context vector`"
   ]
  },
  {
   "cell_type": "markdown",
   "metadata": {},
   "source": [
    "<img src='images/context vector.jpg'>"
   ]
  },
  {
   "cell_type": "markdown",
   "metadata": {},
   "source": [
    "Now, let's understand how the *Attention scores* are generated."
   ]
  },
  {
   "cell_type": "markdown",
   "metadata": {},
   "source": [
    "\n",
    "## Attention Scoring\n",
    "The __Attention Scores__ are calculated based on a scoring function. \n",
    "\n",
    "_Note: Although there are many scoring functions, we will focus on the scoring functions from [Luong et al](https://arxiv.org/pdf/1508.04025.pdf) only. More specifically, only the **Dot Scoring** function._\n",
    "\n",
    "### Inputs to the scoring function\n",
    "\n",
    "Let's start by looking at the inputs that we pass to the scoring function. \n",
    "The attention scoring function takes two inputs:\n",
    "- the hidden state of the decoder \n",
    "- the set of hiddens states of the encoder"
   ]
  },
  {
   "cell_type": "markdown",
   "metadata": {},
   "source": [
    "__a) the hidden state of the decoder__"
   ]
  },
  {
   "cell_type": "markdown",
   "metadata": {},
   "source": [
    "Let's assume we're in the first step in the decoding phase, and the decoder hidden state has an embedding space of 3 (assuming a toy RNN with three hidden nodes -- not usable in real life, but easier to illustrate)."
   ]
  },
  {
   "cell_type": "code",
   "execution_count": 30,
   "metadata": {},
   "outputs": [],
   "source": [
    "dec_hidden_state = [5,1,20]"
   ]
  },
  {
   "cell_type": "markdown",
   "metadata": {},
   "source": [
    "Let's visualize this hidden state vector:"
   ]
  },
  {
   "cell_type": "code",
   "execution_count": 31,
   "metadata": {},
   "outputs": [
    {
     "data": {
      "image/png": "[encoded data removed]",
      "text/plain": [
       "<Figure size 108x324 with 2 Axes>"
      ]
     },
     "metadata": {
      "needs_background": "light"
     },
     "output_type": "display_data"
    }
   ],
   "source": [
    "# Let's visualize our decoder hidden state\n",
    "plt.figure(figsize=(1.5, 4.5))\n",
    "sns.heatmap(np.transpose(np.matrix(dec_hidden_state)), annot=True, cmap=sns.light_palette(\"purple\", as_cmap=True), linewidths=1)\n",
    "plt.show()"
   ]
  },
  {
   "cell_type": "markdown",
   "metadata": {},
   "source": [
    "**b) the set of hiddens states of the encoder**\n",
    "\n",
    "Let's now look at the set of hiddens states of the encoder:"
   ]
  },
  {
   "cell_type": "code",
   "execution_count": 45,
   "metadata": {},
   "outputs": [],
   "source": [
    "annotations = np.transpose([[3,10,25], [39,2,5], [1,33,5], [4,3,25.3]])"
   ]
  },
  {
   "cell_type": "markdown",
   "metadata": {},
   "source": [
    "And it can be visualized like this (each column is a hidden state of an encoder time step):"
   ]
  },
  {
   "cell_type": "code",
   "execution_count": 46,
   "metadata": {},
   "outputs": [
    {
     "data": {
      "image/png": "[encoded data removed]",
      "text/plain": [
       "<Figure size 432x288 with 2 Axes>"
      ]
     },
     "metadata": {
      "needs_background": "light"
     },
     "output_type": "display_data"
    }
   ],
   "source": [
    "# Let's visualize our annotation (each column is an annotation)\n",
    "ax = sns.heatmap(annotations, annot=True, cmap=sns.light_palette(\"orange\", as_cmap=True), linewidths=1)"
   ]
  },
  {
   "cell_type": "markdown",
   "metadata": {},
   "source": [
    "### Implement Scoring Function\n",
    "Let's calculate the scores of all the annotations (hidden states). \n",
    "\n",
    "The [Luong et al](https://arxiv.org/pdf/1508.04025.pdf) paper put forwards 3 scoring functions:\n",
    "\n",
    "<img src=\"images/scoring_functions.png\" />\n",
    "\n",
    "In this project, we will try to implement only the \"DOT\" scoring method. This scoring function is quite straightforward and just involves a simple one-step matrix multiplication. \n",
    "\n",
    "To do that, we'll have to transpose `dec_hidden_state` and [matrix multiply](https://docs.scipy.org/doc/numpy/reference/generated/numpy.matmul.html) it with `annotations`."
   ]
  },
  {
   "cell_type": "code",
   "execution_count": 47,
   "metadata": {},
   "outputs": [
    {
     "data": {
      "text/plain": [
       "array([525., 297., 138., 529.])"
      ]
     },
     "execution_count": 47,
     "metadata": {},
     "output_type": "execute_result"
    }
   ],
   "source": [
    "def dot_attention_score(dec_hidden_state, annotations):\n",
    "    \n",
    "    # return the product of dec_hidden_state transpose and enc_hidden_states\n",
    "    return np.matmul(np.transpose(dec_hidden_state), annotations)\n",
    "    \n",
    "attention_weights_raw = dot_attention_score(dec_hidden_state, annotations)\n",
    "attention_weights_raw"
   ]
  },
  {
   "cell_type": "markdown",
   "metadata": {},
   "source": [
    "The above scores will decide which of the four vectors (hidden encoder states) will get the most attention from the decoder (for the current time step).\n",
    "\n",
    "## Softmax\n",
    "Now that we have our scores, let's apply softmax:\n",
    "<img src=\"images/softmax.png\" />"
   ]
  },
  {
   "cell_type": "code",
   "execution_count": 48,
   "metadata": {},
   "outputs": [
    {
     "data": {
      "text/plain": [
       "array([1.79862100e-002, 1.72106703e-101, 1.52396559e-170, 9.82013790e-001])"
      ]
     },
     "execution_count": 48,
     "metadata": {},
     "output_type": "execute_result"
    }
   ],
   "source": [
    "def softmax(x):\n",
    "    e_x = np.exp(x)\n",
    "    return e_x / e_x.sum(axis=0) \n",
    "\n",
    "attention_weights = softmax(attention_weights_raw)\n",
    "attention_weights"
   ]
  },
  {
   "cell_type": "markdown",
   "metadata": {},
   "source": [
    "Even when knowing which annotation will get the most focus, it's interesting to see how drastic softmax makes the end score become. The first and last annotation had the respective scores of 525 and 529. But after softmax, the attention they'll get is 0.017 and 0.982 respectively.\n",
    "\n",
    "## Applying the scores back on the annotations\n",
    "Now that we have our scores, let's multiply each annotation by its score to proceed closer to the attention context vector. This is the multiplication part of this formula (we'll tackle the summation part in the latter cells)\n",
    "\n",
    "<img src=\"images/Context_vector.png\" />"
   ]
  },
  {
   "cell_type": "code",
   "execution_count": 49,
   "metadata": {},
   "outputs": [
    {
     "data": {
      "text/plain": [
       "array([[5.39586299e-002, 6.71216142e-100, 1.52396559e-170,\n",
       "        3.92805516e+000],\n",
       "       [1.79862100e-001, 3.44213406e-101, 5.02908646e-169,\n",
       "        2.94604137e+000],\n",
       "       [4.49655249e-001, 8.60533515e-101, 7.61982797e-170,\n",
       "        2.48449489e+001]])"
      ]
     },
     "execution_count": 49,
     "metadata": {},
     "output_type": "execute_result"
    }
   ],
   "source": [
    "def apply_attention_scores(attention_weights, annotations):\n",
    "    # Multiply the annotations by their weights\n",
    "    return attention_weights * annotations\n",
    "\n",
    "applied_attention = apply_attention_scores(attention_weights, annotations)\n",
    "applied_attention"
   ]
  },
  {
   "cell_type": "markdown",
   "metadata": {},
   "source": [
    "Let's visualize how the context vector looks now that we've applied the attention scores back on it:"
   ]
  },
  {
   "cell_type": "code",
   "execution_count": 50,
   "metadata": {},
   "outputs": [
    {
     "data": {
      "image/png": "[encoded data removed]",
      "text/plain": [
       "<Figure size 432x288 with 2 Axes>"
      ]
     },
     "metadata": {
      "needs_background": "light"
     },
     "output_type": "display_data"
    }
   ],
   "source": [
    "# Let's visualize our annotations after applying attention to them\n",
    "ax = sns.heatmap(applied_attention, annot=True, cmap=sns.light_palette(\"orange\", as_cmap=True), linewidths=1)"
   ]
  },
  {
   "cell_type": "markdown",
   "metadata": {},
   "source": [
    "Contrast this with the raw annotations visualized earlier in the notebook, and we can see that the first, second and third annotations (columns) have been nearly wiped out. The fourth annotation is the most pronounced.\n",
    "\n",
    "## Calculating the Attention Context Vector\n",
    "All that remains to produce our attention context vector now is to sum up the four columns to produce a single attention context vector.\n"
   ]
  },
  {
   "cell_type": "code",
   "execution_count": 51,
   "metadata": {},
   "outputs": [
    {
     "data": {
      "text/plain": [
       "array([ 3.98201379,  3.12590347, 25.29460414])"
      ]
     },
     "execution_count": 51,
     "metadata": {},
     "output_type": "execute_result"
    }
   ],
   "source": [
    "def calculate_attention_vector(applied_attention):\n",
    "    return np.sum(applied_attention, axis=1)\n",
    "\n",
    "attention_vector = calculate_attention_vector(applied_attention)\n",
    "attention_vector"
   ]
  },
  {
   "cell_type": "code",
   "execution_count": 53,
   "metadata": {
    "scrolled": false
   },
   "outputs": [
    {
     "data": {
      "image/png": "[encoded data removed]",
      "text/plain": [
       "<Figure size 108x324 with 2 Axes>"
      ]
     },
     "metadata": {
      "needs_background": "light"
     },
     "output_type": "display_data"
    }
   ],
   "source": [
    "# Let's visualize the attention context vector\n",
    "plt.figure(figsize=(1.5, 4.5))\n",
    "sns.heatmap(np.transpose(np.matrix(attention_vector)), annot=True, cmap=sns.light_palette(\"Blue\", as_cmap=True), linewidths=1)\n",
    "plt.show()"
   ]
  },
  {
   "cell_type": "markdown",
   "metadata": {},
   "source": [
    "The context vector is then concatenated with the current decoder hidden state and passed it through a Feed Forward Network to produce the result of this decoding time step. \n",
    "\n",
    "We will repeat the above steps to generate the output at every time-step untill some terminating condition is fulfilled.\n",
    "\n",
    "The complete steps can be summarized using the below picture:\n",
    "\n",
    "<img src='images/final.jpg'>"
   ]
  },
  {
   "cell_type": "markdown",
   "metadata": {},
   "source": [
    "## Create Attention layer"
   ]
  },
  {
   "cell_type": "markdown",
   "metadata": {},
   "source": [
    "Now that we have understood how __Attention__ works, we will combine the above steps to create a layer `AttentionLayer()` so we can plug it into our model like any other layer."
   ]
  },
  {
   "cell_type": "code",
   "execution_count": 90,
   "metadata": {},
   "outputs": [],
   "source": [
    "from tensorflow.keras.layers import Layer\n",
    "import tensorflow.keras.backend as K\n",
    "import tensorflow as tf"
   ]
  },
  {
   "cell_type": "code",
   "execution_count": 85,
   "metadata": {},
   "outputs": [],
   "source": [
    "class Attention(Layer):\n",
    "    \n",
    "    \"\"\"Class for Attention Layer\"\"\"\n",
    "    \n",
    "    def __init__(self, **kwargs):\n",
    "        \"\"\"\n",
    "        Constructor Method\n",
    "        \"\"\"\n",
    "        super(Attention, self).__init__(**kwargs)\n",
    "\n",
    "    def call(self, query, key):\n",
    "        \"\"\"\n",
    "        This method defines the main logic of Attention.\n",
    "        \n",
    "        Inputs:\n",
    "            query: current time-step decoder hidden state  \n",
    "                -> (batch_size, hidden_dim) \n",
    "            key: all encoder all hidden state           \n",
    "                -> (batch_size, seq_len, hidden_dim) \n",
    "        \n",
    "        Returns:\n",
    "            Returns the context vector\n",
    "                -> (batch_size, 1, hidden_dim)\n",
    "                \n",
    "        Note: The DOT scoring methods requires that the embedding dimension of\n",
    "        both encoder and decoder are same for it to work.\n",
    "        \"\"\"\n",
    "\n",
    "        # step 0: fixing the dimension of query\n",
    "        query = tf.expand_dims(query, 1)                 # (batch_size, 1, hidden_dim)\n",
    "\n",
    "        # step 1. calculate alignment score \n",
    "        scores = tf.matmul(query, key, transpose_b=True) # (batch_size, 1, seq_len)\n",
    "        \n",
    "        # step 2. apply softmax to the alignment scores  # (batch_size, 1, seq_len)\n",
    "        a = tf.nn.softmax(scores)\n",
    "        \n",
    "        # step 3. multiply the softmaxed scores to \"key\" to get the \"context vector\"\n",
    "        c_vector = tf.matmul(a, tf.cast(key, dtype=tf.float32)) \n",
    "        # (b, 1, seq_len) * (b, seq_len, hidden_dim)    -> (batch_size, 1, hidden_dim)\n",
    "\n",
    "        return c_vector\n",
    "    \n",
    "    def get_config(self):\n",
    "        \"\"\"\n",
    "        This method collects the input shape and other information about the model.\n",
    "        \"\"\"\n",
    "        return super(Attention,self).get_config()"
   ]
  },
  {
   "cell_type": "markdown",
   "metadata": {},
   "source": [
    "### Test the layer:"
   ]
  },
  {
   "cell_type": "code",
   "execution_count": 87,
   "metadata": {},
   "outputs": [],
   "source": [
    "batch_size = 2\n",
    "hidden_dim = 10\n",
    "seq_len = 5\n",
    "\n",
    "dec_hidden_state  = tf.constant(np.random.rand(batch_size, hidden_dim), dtype=tf.float32)\n",
    "enc_hidden_states = tf.constant(np.random.rand(batch_size, seq_len, hidden_dim), dtype=tf.float32)                       "
   ]
  },
  {
   "cell_type": "code",
   "execution_count": 88,
   "metadata": {},
   "outputs": [],
   "source": [
    "attn_layer = Attention()\n",
    "cv = attn_layer(dec_hidden_state, enc_hidden_states)"
   ]
  },
  {
   "cell_type": "code",
   "execution_count": 89,
   "metadata": {},
   "outputs": [
    {
     "data": {
      "text/plain": [
       "TensorShape([2, 1, 10])"
      ]
     },
     "execution_count": 89,
     "metadata": {},
     "output_type": "execute_result"
    }
   ],
   "source": [
    "cv.shape"
   ]
  },
  {
   "cell_type": "markdown",
   "metadata": {},
   "source": [
    "The `AttentionLayer()` returns context vector of shape `[1, hidden_dim]` for all the rows, as expected."
   ]
  }
 ],
 "metadata": {
  "anaconda-cloud": {},
  "kernelspec": {
   "display_name": "Python 3",
   "language": "python",
   "name": "python3"
  },
  "language_info": {
   "codemirror_mode": {
    "name": "ipython",
    "version": 3
   },
   "file_extension": ".py",
   "mimetype": "text/x-python",
   "name": "python",
   "nbconvert_exporter": "python",
   "pygments_lexer": "ipython3",
   "version": "3.7.6"
  }
 },
 "nbformat": 4,
 "nbformat_minor": 1
}